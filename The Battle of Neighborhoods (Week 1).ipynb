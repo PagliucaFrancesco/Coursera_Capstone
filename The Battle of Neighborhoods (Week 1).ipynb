{
 "cells": [
  {
   "cell_type": "markdown",
   "metadata": {},
   "source": [
    "## Table of contents\n",
    "* [Introduction: Business Problem](#introduction)\n",
    "* [Data](#data)\n",
    "* [Methodology](#methodology)\n",
    "* [Analysis](#analysis)\n",
    "* [Results and Discussion](#results)\n",
    "* [Conclusion](#conclusion)"
   ]
  },
  {
   "cell_type": "markdown",
   "metadata": {},
   "source": [
    "\n",
    "\n",
    "## Introduction: Business Problem <a name=\"introduction\"></a>"
   ]
  },
  {
   "cell_type": "markdown",
   "metadata": {},
   "source": [
    "The aim of this project is to find a safe and secure location for opening of commercial establishments in Vancouver, Canada. Specifically, this report will be targeted to stakeholders interested in opening any business place like Grocery Store in Vancouver City, Canada.\n",
    "\n",
    "The first task would be to choose the safest borough by analysing crime data for opening a grocery store and short listing a neighbourhood, where grocery stores are not amongst the most commom venues, and yet as close to the city as possible.\n",
    "\n",
    "We will make use of our data science tools to analyse data and focus on the safest borough and explore its neighborhoods and the 10 most common venues in each neighborhood so that the best neighborhood where grocery store is not amongst the most common venue can be selected."
   ]
  },
  {
   "cell_type": "markdown",
   "metadata": {},
   "source": [
    "## Data <a name=\"data\"></a>"
   ]
  },
  {
   "cell_type": "markdown",
   "metadata": {},
   "source": [
    "Based on definition of our problem, factors that will influence our decission are:\n",
    "* finding the safest borough based on crime statistics\n",
    "* finding the most common venues\n",
    "* choosing the right neighbourhood within the borough\n",
    "\n",
    "We will be using the geographical coordinates of Vancouver to plot neighbourhoods in a borough that is safe and in the city's vicinity, and finally cluster our neighborhoods and present our findings.\n",
    "\n",
    "Following data sources will be needed to extract/generate the required information:\n",
    "\n",
    "- [**Part 1**: Using a real world data set from Kaggle containing the Vancouver Crimes from 2003 to 2019](#part1):  A dataset consisting of the crime statistics of each Neighbourhoof in Vancouver along with type of crime, recorded year, month and hour.\n",
    "\n",
    "- [**Part 2**: Gathering additional information of the list of officially categorized boroughs in Vancouver from Wikipedia.](#part2): Borough information will be used to map the existing data where each neighbourhood can be assigned with the right borough.\n",
    "\n",
    "- [**Part 3**: Creating a new consolidated dataset of the Neighborhoods, along with their boroughs, crime data and the respective Neighbourhood's co-ordinates.](#part3): This data will be fetched using OpenCage Geocoder to find the safest borough and explore the neighbourhood by plotting it on maps using Folium and perform exploratory data analysis.\n",
    "\n",
    "- [**Part 4**: Creating a new consolidated dataset of the Neighborhoods, boroughs, and the most common venues and the respective Neighbourhood along with co-ordinates.](#part4): This data will be fetched using Four Square API to explore the neighbourhood venues and to apply machine learning algorithm to cluster the neighbourhoods and present the findings by plotting it on maps using Folium."
   ]
  },
  {
   "cell_type": "markdown",
   "metadata": {},
   "source": [
    "###**Part 1:** Using a real world data set from Kaggle containing the Vancouver Crimes from 2003 to 2019<a name=\"part1\"></a>\n",
    "\n",
    "\n",
    "####  Vancouver Crime Report \n",
    "\n",
    "Properties of the Crime Report\n",
    "\n",
    "*   TYPE - Crime type\n",
    "*   YEAR - Recorded year\n",
    "*   MONTH - Recorded month\n",
    "*   DAY - Recorded day\n",
    "*   HOUR - Recorded hour\n",
    "*   MINUTE - Recorded minute\n",
    "*   HUNDRED_BLOCK - Recorded block\n",
    "*   NEIGHBOURHOOD - Recorded neighborhood\n",
    "*   X - GPS longtitude\n",
    "*   Y - GPS latitude\n",
    "\n",
    "Data set URL: https://www.kaggle.com/agilesifaka/vancouver-crime-report/version/2"
   ]
  },
  {
   "cell_type": "markdown",
   "metadata": {},
   "source": [
    "### Importing all the necessary Libraries"
   ]
  },
  {
   "cell_type": "code",
   "execution_count": 2,
   "metadata": {},
   "outputs": [
    {
     "name": "stdout",
     "output_type": "stream",
     "text": [
      "Collecting opencage\n",
      "  Downloading https://files.pythonhosted.org/packages/00/6b/05922eb2ea69713f3c9e355649d8c905a7a0880e9511b7b10d6dedeb859e/opencage-1.2.1-py3-none-any.whl\n",
      "Requirement already satisfied: six>=1.4.0 in /home/jupyterlab/conda/envs/python/lib/python3.6/site-packages (from opencage) (1.15.0)\n",
      "Requirement already satisfied: Requests>=2.2.0 in /home/jupyterlab/conda/envs/python/lib/python3.6/site-packages (from opencage) (2.24.0)\n",
      "Requirement already satisfied: pyopenssl>=0.15.1 in /home/jupyterlab/conda/envs/python/lib/python3.6/site-packages (from opencage) (19.1.0)\n",
      "Collecting backoff>=1.10.0 (from opencage)\n",
      "  Downloading https://files.pythonhosted.org/packages/f0/32/c5dd4f4b0746e9ec05ace2a5045c1fc375ae67ee94355344ad6c7005fd87/backoff-1.10.0-py2.py3-none-any.whl\n",
      "Requirement already satisfied: idna<3,>=2.5 in /home/jupyterlab/conda/envs/python/lib/python3.6/site-packages (from Requests>=2.2.0->opencage) (2.10)\n",
      "Requirement already satisfied: certifi>=2017.4.17 in /home/jupyterlab/conda/envs/python/lib/python3.6/site-packages (from Requests>=2.2.0->opencage) (2020.6.20)\n",
      "Requirement already satisfied: urllib3!=1.25.0,!=1.25.1,<1.26,>=1.21.1 in /home/jupyterlab/conda/envs/python/lib/python3.6/site-packages (from Requests>=2.2.0->opencage) (1.25.10)\n",
      "Requirement already satisfied: chardet<4,>=3.0.2 in /home/jupyterlab/conda/envs/python/lib/python3.6/site-packages (from Requests>=2.2.0->opencage) (3.0.4)\n",
      "Requirement already satisfied: cryptography>=2.8 in /home/jupyterlab/conda/envs/python/lib/python3.6/site-packages (from pyopenssl>=0.15.1->opencage) (3.0)\n",
      "Requirement already satisfied: cffi!=1.11.3,>=1.8 in /home/jupyterlab/conda/envs/python/lib/python3.6/site-packages (from cryptography>=2.8->pyopenssl>=0.15.1->opencage) (1.14.0)\n",
      "Requirement already satisfied: pycparser in /home/jupyterlab/conda/envs/python/lib/python3.6/site-packages (from cffi!=1.11.3,>=1.8->cryptography>=2.8->pyopenssl>=0.15.1->opencage) (2.20)\n",
      "Installing collected packages: backoff, opencage\n",
      "Successfully installed backoff-1.10.0 opencage-1.2.1\n",
      "Matplotlib version:  3.3.0\n",
      "\n",
      "Libraries imported\n"
     ]
    }
   ],
   "source": [
    "\n",
    "import numpy as np\n",
    "import pandas as pd\n",
    "\n",
    "#Command to install OpenCage Geocoder for fetching Lat and Lng of Neighborhood\n",
    "!pip install opencage\n",
    "\n",
    "#Importing OpenCage Geocoder\n",
    "from opencage.geocoder import OpenCageGeocode\n",
    "\n",
    "# use the inline backend to generate the plots within the browser\n",
    "%matplotlib inline \n",
    "\n",
    "#Importing Matplot lib and associated packages to perform Data Visualisation and Exploratory Data Analysis\n",
    "import matplotlib as mpl\n",
    "import matplotlib.pyplot as plt\n",
    "\n",
    "mpl.style.use('ggplot') # optional: for ggplot-like style\n",
    "\n",
    "# check for latest version of Matplotlib\n",
    "print ('Matplotlib version: ', mpl.__version__) # >= 2.0.0\n",
    "\n",
    "# Matplotlib and associated plotting modules\n",
    "import matplotlib.cm as cm\n",
    "import matplotlib.colors as colors\n",
    "\n",
    "#Importing folium to visualise Maps and plot based on Lat and Lng\n",
    "import folium\n",
    "\n",
    "#Requests to request web pages by making get requests to FourSquare REST Client\n",
    "import requests\n",
    "\n",
    "#To normalise data returned by FourSquare API\n",
    "from pandas.io.json import json_normalize\n",
    "\n",
    "#Importing KMeans from SciKit library to Classify neighborhoods into clusters\n",
    "from sklearn.cluster import KMeans\n",
    "\n",
    "print('\\nLibraries imported')"
   ]
  },
  {
   "cell_type": "markdown",
   "metadata": {},
   "source": [
    "##Reading from the Dataset\n",
    "\n",
    "#####Due to sheer amount of data(~ 600,000 rows), it was not possible to process all of them and instead for this project we will be considering the recent crime report of the 2018."
   ]
  },
  {
   "cell_type": "code",
   "execution_count": 3,
   "metadata": {},
   "outputs": [
    {
     "data": {
      "text/html": [
       "<div>\n",
       "<style scoped>\n",
       "    .dataframe tbody tr th:only-of-type {\n",
       "        vertical-align: middle;\n",
       "    }\n",
       "\n",
       "    .dataframe tbody tr th {\n",
       "        vertical-align: top;\n",
       "    }\n",
       "\n",
       "    .dataframe thead th {\n",
       "        text-align: right;\n",
       "    }\n",
       "</style>\n",
       "<table border=\"1\" class=\"dataframe\">\n",
       "  <thead>\n",
       "    <tr style=\"text-align: right;\">\n",
       "      <th></th>\n",
       "      <th>TYPE</th>\n",
       "      <th>YEAR</th>\n",
       "      <th>MONTH</th>\n",
       "      <th>DAY</th>\n",
       "      <th>HOUR</th>\n",
       "      <th>NEIGHBOURHOOD</th>\n",
       "    </tr>\n",
       "  </thead>\n",
       "  <tbody>\n",
       "    <tr>\n",
       "      <th>0</th>\n",
       "      <td>Break and Enter Commercial</td>\n",
       "      <td>2018</td>\n",
       "      <td>3</td>\n",
       "      <td>2</td>\n",
       "      <td>6</td>\n",
       "      <td>West End</td>\n",
       "    </tr>\n",
       "    <tr>\n",
       "      <th>1</th>\n",
       "      <td>Break and Enter Commercial</td>\n",
       "      <td>2018</td>\n",
       "      <td>6</td>\n",
       "      <td>16</td>\n",
       "      <td>18</td>\n",
       "      <td>West End</td>\n",
       "    </tr>\n",
       "    <tr>\n",
       "      <th>2</th>\n",
       "      <td>Break and Enter Commercial</td>\n",
       "      <td>2018</td>\n",
       "      <td>12</td>\n",
       "      <td>12</td>\n",
       "      <td>0</td>\n",
       "      <td>West End</td>\n",
       "    </tr>\n",
       "    <tr>\n",
       "      <th>3</th>\n",
       "      <td>Break and Enter Commercial</td>\n",
       "      <td>2018</td>\n",
       "      <td>4</td>\n",
       "      <td>9</td>\n",
       "      <td>6</td>\n",
       "      <td>Central Business District</td>\n",
       "    </tr>\n",
       "    <tr>\n",
       "      <th>4</th>\n",
       "      <td>Break and Enter Commercial</td>\n",
       "      <td>2018</td>\n",
       "      <td>10</td>\n",
       "      <td>2</td>\n",
       "      <td>18</td>\n",
       "      <td>Central Business District</td>\n",
       "    </tr>\n",
       "  </tbody>\n",
       "</table>\n",
       "</div>"
      ],
      "text/plain": [
       "                         TYPE  YEAR  MONTH  DAY  HOUR  \\\n",
       "0  Break and Enter Commercial  2018      3    2     6   \n",
       "1  Break and Enter Commercial  2018      6   16    18   \n",
       "2  Break and Enter Commercial  2018     12   12     0   \n",
       "3  Break and Enter Commercial  2018      4    9     6   \n",
       "4  Break and Enter Commercial  2018     10    2    18   \n",
       "\n",
       "               NEIGHBOURHOOD  \n",
       "0                   West End  \n",
       "1                   West End  \n",
       "2                   West End  \n",
       "3  Central Business District  \n",
       "4  Central Business District  "
      ]
     },
     "execution_count": 3,
     "metadata": {},
     "output_type": "execute_result"
    }
   ],
   "source": [
    "vnc_crime_df = pd.read_csv('https://raw.githubusercontent.com/RamanujaSVL/Coursera_Capstone/master/vancouver_crime_records_2018.csv', index_col=None)\n",
    "\n",
    "#Dropping X,Y which represents Lat, Lng data as Coordinates, the data seems to be corrupt\n",
    "vnc_crime_df.drop(['Unnamed: 0','MINUTE', 'HUNDRED_BLOCK', 'X', 'Y'], axis = 1, inplace = True)\n",
    "\n",
    "#vnc_crime_df.columns\n",
    "\n",
    "vnc_crime_df.head()"
   ]
  },
  {
   "cell_type": "markdown",
   "metadata": {},
   "source": [
    "Changing the name of columns to lowercase"
   ]
  },
  {
   "cell_type": "code",
   "execution_count": 4,
   "metadata": {},
   "outputs": [
    {
     "data": {
      "text/html": [
       "<div>\n",
       "<style scoped>\n",
       "    .dataframe tbody tr th:only-of-type {\n",
       "        vertical-align: middle;\n",
       "    }\n",
       "\n",
       "    .dataframe tbody tr th {\n",
       "        vertical-align: top;\n",
       "    }\n",
       "\n",
       "    .dataframe thead th {\n",
       "        text-align: right;\n",
       "    }\n",
       "</style>\n",
       "<table border=\"1\" class=\"dataframe\">\n",
       "  <thead>\n",
       "    <tr style=\"text-align: right;\">\n",
       "      <th></th>\n",
       "      <th>Type</th>\n",
       "      <th>Year</th>\n",
       "      <th>Month</th>\n",
       "      <th>Day</th>\n",
       "      <th>Hour</th>\n",
       "      <th>Neighbourhood</th>\n",
       "    </tr>\n",
       "  </thead>\n",
       "  <tbody>\n",
       "    <tr>\n",
       "      <th>0</th>\n",
       "      <td>Break and Enter Commercial</td>\n",
       "      <td>2018</td>\n",
       "      <td>3</td>\n",
       "      <td>2</td>\n",
       "      <td>6</td>\n",
       "      <td>West End</td>\n",
       "    </tr>\n",
       "    <tr>\n",
       "      <th>1</th>\n",
       "      <td>Break and Enter Commercial</td>\n",
       "      <td>2018</td>\n",
       "      <td>6</td>\n",
       "      <td>16</td>\n",
       "      <td>18</td>\n",
       "      <td>West End</td>\n",
       "    </tr>\n",
       "    <tr>\n",
       "      <th>2</th>\n",
       "      <td>Break and Enter Commercial</td>\n",
       "      <td>2018</td>\n",
       "      <td>12</td>\n",
       "      <td>12</td>\n",
       "      <td>0</td>\n",
       "      <td>West End</td>\n",
       "    </tr>\n",
       "    <tr>\n",
       "      <th>3</th>\n",
       "      <td>Break and Enter Commercial</td>\n",
       "      <td>2018</td>\n",
       "      <td>4</td>\n",
       "      <td>9</td>\n",
       "      <td>6</td>\n",
       "      <td>Central Business District</td>\n",
       "    </tr>\n",
       "    <tr>\n",
       "      <th>4</th>\n",
       "      <td>Break and Enter Commercial</td>\n",
       "      <td>2018</td>\n",
       "      <td>10</td>\n",
       "      <td>2</td>\n",
       "      <td>18</td>\n",
       "      <td>Central Business District</td>\n",
       "    </tr>\n",
       "  </tbody>\n",
       "</table>\n",
       "</div>"
      ],
      "text/plain": [
       "                         Type  Year  Month  Day  Hour  \\\n",
       "0  Break and Enter Commercial  2018      3    2     6   \n",
       "1  Break and Enter Commercial  2018      6   16    18   \n",
       "2  Break and Enter Commercial  2018     12   12     0   \n",
       "3  Break and Enter Commercial  2018      4    9     6   \n",
       "4  Break and Enter Commercial  2018     10    2    18   \n",
       "\n",
       "               Neighbourhood  \n",
       "0                   West End  \n",
       "1                   West End  \n",
       "2                   West End  \n",
       "3  Central Business District  \n",
       "4  Central Business District  "
      ]
     },
     "execution_count": 4,
     "metadata": {},
     "output_type": "execute_result"
    }
   ],
   "source": [
    "vnc_crime_df.columns = ['Type', 'Year','Month','Day','Hour','Neighbourhood']\n",
    "vnc_crime_df.head()"
   ]
  },
  {
   "cell_type": "markdown",
   "metadata": {},
   "source": [
    "Total Crimes in different Neighborhoods"
   ]
  },
  {
   "cell_type": "code",
   "execution_count": 5,
   "metadata": {},
   "outputs": [
    {
     "data": {
      "text/plain": [
       "Central Business District    10857\n",
       "West End                      3031\n",
       "Mount Pleasant                2396\n",
       "Strathcona                    1987\n",
       "Kitsilano                     1802\n",
       "Fairview                      1795\n",
       "Renfrew-Collingwood           1762\n",
       "Grandview-Woodland            1761\n",
       "Kensington-Cedar Cottage      1391\n",
       "Hastings-Sunrise              1270\n",
       "Sunset                         967\n",
       "Riley Park                     866\n",
       "Marpole                        828\n",
       "Victoria-Fraserview            600\n",
       "Killarney                      565\n",
       "Oakridge                       499\n",
       "Dunbar-Southlands              474\n",
       "Kerrisdale                     417\n",
       "Shaughnessy                    414\n",
       "West Point Grey                372\n",
       "Arbutus Ridge                  311\n",
       "South Cambie                   292\n",
       "Stanley Park                   154\n",
       "Musqueam                        17\n",
       "Name: Neighbourhood, dtype: int64"
      ]
     },
     "execution_count": 5,
     "metadata": {},
     "output_type": "execute_result"
    }
   ],
   "source": [
    "vnc_crime_df['Neighbourhood'].value_counts()"
   ]
  },
  {
   "cell_type": "code",
   "execution_count": null,
   "metadata": {},
   "outputs": [],
   "source": []
  }
 ],
 "metadata": {
  "kernelspec": {
   "display_name": "Python",
   "language": "python",
   "name": "conda-env-python-py"
  },
  "language_info": {
   "codemirror_mode": {
    "name": "ipython",
    "version": 3
   },
   "file_extension": ".py",
   "mimetype": "text/x-python",
   "name": "python",
   "nbconvert_exporter": "python",
   "pygments_lexer": "ipython3",
   "version": "3.6.11"
  }
 },
 "nbformat": 4,
 "nbformat_minor": 4
}
